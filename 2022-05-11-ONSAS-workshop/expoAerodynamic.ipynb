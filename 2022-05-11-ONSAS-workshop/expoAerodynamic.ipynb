{
 "cells": [
  {
   "cell_type": "markdown",
   "metadata": {},
   "source": [
    "# <span style=\"color:orange\">  A quick guide on using (and contributing to) [ONSAS](https://github.com/ONSAS/ONSAS.m)\n"
   ]
  },
  {
   "cell_type": "markdown",
   "metadata": {},
   "source": [
    "### <span style=\"color:red\"> Topics to cover:\n",
    "\n",
    "1. Clone ONSAS.m repository via terminal using ssh\n",
    "1. Discuss the aerodyamic beam element\n",
    "1. Run `linearAerodynamics.m`\n",
    "1. Run `nonLinearAerodynamic.m`\n"
   ]
  },
  {
   "cell_type": "markdown",
   "metadata": {},
   "source": [
    "## <span style=\"color:green\">1.Clone ONSAS.m via ssh    </span>\n",
    "This is a way to have remote access using private and public ssh keys.\n",
    "1. <span style=\"color:orange\">  Set up via linux terminal  </span>\n",
    "- Make a new user and [sign up on Github.com](https://github.com/signup?ref_cta=Sign+up&ref_loc=header+logged+out&ref_page=%2F&source=header-home)\n",
    "- Install git app on your Ubuntu system using:\n",
    "\n",
    "\n",
    "\n",
    "- Create private keys following this exact [instructions](https://docs.github.com/en/authentication/connecting-to-github-with-ssh/generating-a-new-ssh-key-and-adding-it-to-the-ssh-agent).\n",
    "- Set your identity:\n",
    "\n",
    "```bash\n",
    "git config --global user.name \"Your Name\"\n",
    "git config --global user.email \"your@email.com\"\n",
    "```\n",
    "\n",
    "- Then clone the repo using:  \n",
    "```bash\n",
    "git clone git@github.com:ONSAS/ONSAS.m.git\n",
    "```\n",
    "- Now you have ONSAS on your computer. Let's test it.. you can move into the folder and execute:\n",
    "```bash\n",
    "git status \n",
    "```\n"
   ]
  },
  {
   "cell_type": "markdown",
   "metadata": {},
   "source": [
    "## <span style=\"color:green\">2.The co-rotational aerodynamic element essentials </span>\n",
    "\n",
    "We are going to check *\"A consistent co-rotational formulation for aerodynamic nonlinear analysis of flexible frame structures\"* at [arxiv](https://arxiv.org/abs/2204.10545) \n"
   ]
  },
  {
   "cell_type": "markdown",
   "metadata": {},
   "source": [
    "## <span style=\"color:green\">3.Linear aerodynamic cantilever beam example </span>\n",
    "We are going to read and modify the linear example into ONSAS docs at [this link](https://onsas.github.io/ONSAS.m/dev/examples/linearAerodynamics/)  "
   ]
  },
  {
   "cell_type": "markdown",
   "metadata": {},
   "source": [
    "## <span style=\"color:green\">4.Non-linear aerodynamic cantilever beam example </span>\n",
    "We are going to read and modify the non-linear example into ONSAS docs at [this link](https://onsas.github.io/ONSAS.m/dev/examples/nonLinearAerodynamics/)"
   ]
  }
 ],
 "metadata": {
  "language_info": {
   "name": "python"
  },
  "orig_nbformat": 4
 },
 "nbformat": 4,
 "nbformat_minor": 2
}
