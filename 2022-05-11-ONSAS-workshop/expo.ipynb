{
 "cells": [
  {
   "cell_type": "markdown",
   "id": "adb6a5cf",
   "metadata": {
    "slideshow": {
     "slide_type": "slide"
    }
   },
   "source": [
    "# A quick guide on using (and contributing to) ONSAS"
   ]
  },
  {
   "cell_type": "markdown",
   "id": "07732758",
   "metadata": {
    "slideshow": {
     "slide_type": "notes"
    }
   },
   "source": [
    "to generate ppt\n",
    "```\n",
    "jupyter nbconvert TestSlideShow.ipynb --to slides --post serve\n",
    "```"
   ]
  },
  {
   "cell_type": "markdown",
   "id": "2bba1d41",
   "metadata": {
    "slideshow": {
     "slide_type": "slide"
    }
   },
   "source": [
    "## Outline\n",
    "\n",
    "### Using ONSAS\n",
    "\n",
    " - required software\n",
    " - example 1: uniaxial extension\n",
    " - example 2: uniaxial extension\n",
    "\n",
    "### Contributing to ONSAS\n",
    " - version control\n",
    " - required software\n",
    " - example contribution\n"
   ]
  },
  {
   "cell_type": "markdown",
   "id": "d419dd06",
   "metadata": {
    "slideshow": {
     "slide_type": "subslide"
    }
   },
   "source": [
    "https://onsas.github.io/ONSAS.m/dev/howtouse/install/"
   ]
  }
 ],
 "metadata": {
  "celltoolbar": "Slideshow",
  "kernelspec": {
   "display_name": "Python 3 (ipykernel)",
   "language": "python",
   "name": "python3"
  },
  "language_info": {
   "codemirror_mode": {
    "name": "ipython",
    "version": 3
   },
   "file_extension": ".py",
   "mimetype": "text/x-python",
   "name": "python",
   "nbconvert_exporter": "python",
   "pygments_lexer": "ipython3",
   "version": "3.10.4"
  }
 },
 "nbformat": 4,
 "nbformat_minor": 5
}
