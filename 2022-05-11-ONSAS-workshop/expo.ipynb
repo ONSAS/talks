{
 "cells": [
  {
   "cell_type": "markdown",
   "id": "adb6a5cf",
   "metadata": {
    "slideshow": {
     "slide_type": "slide"
    }
   },
   "source": [
    "# A quick guide on using (and contributing to) ONSAS\n",
    "### An Open Nonlinear Structural Analysis Solver"
   ]
  },
  {
   "cell_type": "markdown",
   "id": "07732758",
   "metadata": {
    "slideshow": {
     "slide_type": "notes"
    }
   },
   "source": [
    "to generate ppt\n",
    "```\n",
    "jupyter nbconvert expo.ipynb --to slides --post serve\n",
    "```"
   ]
  },
  {
   "cell_type": "markdown",
   "id": "c23709f4",
   "metadata": {
    "slideshow": {
     "slide_type": "subslide"
    }
   },
   "source": [
    "## Some context \n",
    " - Development for graduate courses since 2017 - Jorge and Bruno\n",
    " - First research applications in 2018 - Joaquín\n",
    " - new features in 2019: co-rotational static formulation - J.-M. Battini / dxf import - S. Toro\n",
    " - Integration of git software technology and transfer to github in 2020 - Marcelo\n",
    " - Nonlinear dynamics of frame structures in 2021 - Mauricio and Jorge\n",
    " - Development of more complete documentation - Marcelo, Jorge and Mauricio\n",
    " - Nonlinear aerodynamics - Mauricio and Jorge\n",
    " - many features under development:\n",
    "  * modal analysis - Bruno \n",
    "  * vortex-induced vibrations - Alexandre\n"
   ]
  },
  {
   "cell_type": "markdown",
   "id": "b6491dc5",
   "metadata": {
    "slideshow": {
     "slide_type": "fragment"
    }
   },
   "source": [
    "\n",
    "## Motivation of this talk\n",
    " 1. show the current format and usage of the tool\n",
    " 1. (briefly) explain basic concepts for potential contributors\n"
   ]
  },
  {
   "cell_type": "markdown",
   "id": "2bba1d41",
   "metadata": {
    "slideshow": {
     "slide_type": "slide"
    }
   },
   "source": [
    "## Outline\n",
    "\n",
    "### Using ONSAS\n",
    "\n",
    " - required software for using\n",
    " - example 1: uniaxial extension\n",
    " - example 2: static von-mises truss\n",
    " - a real-life example\n",
    "\n",
    "### Contributing to ONSAS\n",
    "\n",
    " - required software for contributing\n",
    " - what is version control\n",
    " - how to do a simple contribution\n",
    "\n",
    "### Activities\n",
    "\n",
    " - \n"
   ]
  },
  {
   "cell_type": "markdown",
   "id": "d419dd06",
   "metadata": {
    "slideshow": {
     "slide_type": "slide"
    }
   },
   "source": [
    "## Using ONSAS\n",
    "\n",
    "### software\n",
    "\n",
    "Required:\n",
    " - GNU-Octave https://www.gnu.org/software/octave/download or Matlab https://la.mathworks.com/pricing-licensing.html?prodcode=ML&intendeduse=comm\n",
    " - Paraview https://www.paraview.org/download/\n",
    "\n",
    "Optional:\n",
    "- Gmsh https://gmsh.info/#Download if you want to create msh meshes (recommended for solids) \n",
    "- some DXF program https://es.wikipedia.org/wiki/DXF if you want to create meshes in that format\n"
   ]
  },
  {
   "cell_type": "markdown",
   "id": "09dc55f5",
   "metadata": {
    "slideshow": {
     "slide_type": "subslide"
    }
   },
   "source": [
    "### Example 1: uniaxial extension\n",
    "https://onsas.github.io/ONSAS.m/dev/examples/uniaxialExtension/\n"
   ]
  },
  {
   "cell_type": "markdown",
   "id": "613dcd55",
   "metadata": {
    "slideshow": {
     "slide_type": "subslide"
    }
   },
   "source": [
    "### Example 2: static von mises truss\n",
    "https://onsas.github.io/ONSAS.m/dev/examples/uniaxialExtension/\n"
   ]
  },
  {
   "cell_type": "markdown",
   "id": "76e6d525",
   "metadata": {
    "slideshow": {
     "slide_type": "subslide"
    }
   },
   "source": [
    "### A real-life example\n"
   ]
  },
  {
   "cell_type": "markdown",
   "id": "1825842f",
   "metadata": {
    "slideshow": {
     "slide_type": "slide"
    }
   },
   "source": [
    "## Contributing to ONSAS\n"
   ]
  }
 ],
 "metadata": {
  "celltoolbar": "Slideshow",
  "kernelspec": {
   "display_name": "Python 3 (ipykernel)",
   "language": "python",
   "name": "python3"
  },
  "language_info": {
   "codemirror_mode": {
    "name": "ipython",
    "version": 3
   },
   "file_extension": ".py",
   "mimetype": "text/x-python",
   "name": "python",
   "nbconvert_exporter": "python",
   "pygments_lexer": "ipython3",
   "version": "3.10.4"
  }
 },
 "nbformat": 4,
 "nbformat_minor": 5
}
