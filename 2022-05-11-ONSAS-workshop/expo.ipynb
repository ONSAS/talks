{
 "cells": [
  {
   "cell_type": "markdown",
   "id": "adb6a5cf",
   "metadata": {
    "slideshow": {
     "slide_type": "slide"
    }
   },
   "source": [
    "# A quick guide on using (and contributing to) ONSAS\n",
    "### An Open Nonlinear Structural Analysis Solver\n",
    "#### Jorge Pérez Zerpa - Universidad de la República\n"
   ]
  },
  {
   "cell_type": "markdown",
   "id": "07732758",
   "metadata": {
    "slideshow": {
     "slide_type": "notes"
    }
   },
   "source": [
    "to generate ppt\n",
    "```\n",
    "jupyter nbconvert expo.ipynb --to slides --post serve\n",
    "```"
   ]
  },
  {
   "cell_type": "markdown",
   "id": "c23709f4",
   "metadata": {
    "slideshow": {
     "slide_type": "subslide"
    }
   },
   "source": [
    "## Some context \n",
    " - Development for graduate courses since 2017 - Jorge and Bruno\n",
    " - First research applications in 2018 - Joaquín\n",
    " - new features in 2019: co-rotational static formulation - J.-M. Battini / dxf import - S. Toro\n",
    " - Integration of git software technology and transfer to github in 2020 - Marcelo\n",
    " - Nonlinear dynamics of frame structures in 2021 - Mauricio and Jorge\n",
    " - Development of more complete documentation - Marcelo, Jorge and Mauricio\n",
    " - Nonlinear aerodynamics - Mauricio and Jorge\n",
    " - many features under development:\n",
    "  * modal analysis - Bruno \n",
    "  * vortex-induced vibrations - Alexandre\n"
   ]
  },
  {
   "cell_type": "markdown",
   "id": "b6491dc5",
   "metadata": {
    "slideshow": {
     "slide_type": "fragment"
    }
   },
   "source": [
    "\n",
    "## Motivation of this talk\n",
    " 1. show the usage of the current version of the tool\n",
    " 1. (briefly) explain basic concepts for potential new contributors\n"
   ]
  },
  {
   "cell_type": "markdown",
   "id": "2bba1d41",
   "metadata": {
    "slideshow": {
     "slide_type": "slide"
    }
   },
   "source": [
    "## Outline\n",
    "\n",
    "### Part 1 - Using ONSAS\n",
    "\n",
    " - required software and github platform\n",
    " - example 1: uniaxial extension\n",
    " - example 2: static von-mises truss\n",
    " - a real-life example\n",
    "\n",
    "### Part 2 - Contributing to ONSAS\n",
    "\n",
    " - what is version control\n",
    " - required software for contributing\n",
    " - how to do a simple contribution\n",
    "\n"
   ]
  },
  {
   "cell_type": "markdown",
   "id": "d419dd06",
   "metadata": {
    "slideshow": {
     "slide_type": "slide"
    }
   },
   "source": [
    "## Using ONSAS\n",
    "\n",
    "### software\n",
    "\n",
    "Required:\n",
    " - GNU-Octave https://www.gnu.org/software/octave/download or Matlab https://la.mathworks.com/pricing-licensing.html?prodcode=ML&intendeduse=comm\n",
    " - Paraview https://www.paraview.org/download/\n"
   ]
  },
  {
   "cell_type": "markdown",
   "id": "628109e9",
   "metadata": {
    "slideshow": {
     "slide_type": "fragment"
    }
   },
   "source": [
    "\n",
    "Optional:\n",
    "- Gmsh https://gmsh.info/#Download if you want to create msh meshes (recommended for solids) \n",
    "- some DXF program https://es.wikipedia.org/wiki/DXF if you want to create meshes in that format\n"
   ]
  },
  {
   "cell_type": "markdown",
   "id": "9ad88deb",
   "metadata": {
    "slideshow": {
     "slide_type": "subslide"
    }
   },
   "source": [
    "\n",
    "### github\n",
    "\n",
    "[Github](https://en.wikipedia.org/wiki/GitHub) _is a provider of Internet hosting for software development and version control using Git_.\n",
    "\n",
    "The ONSAS code and documentation are hosted in github since 2019. https://github.com/ONSAS/ONSAS.m)\n"
   ]
  },
  {
   "cell_type": "markdown",
   "id": "09dc55f5",
   "metadata": {
    "slideshow": {
     "slide_type": "subslide"
    }
   },
   "source": [
    "### Example 1: uniaxial extension\n",
    "https://onsas.github.io/ONSAS.m/dev/examples/uniaxialExtension/\n"
   ]
  },
  {
   "cell_type": "markdown",
   "id": "613dcd55",
   "metadata": {
    "slideshow": {
     "slide_type": "subslide"
    }
   },
   "source": [
    "### Example 2: static von mises truss\n",
    "https://onsas.github.io/ONSAS.m/dev/examples/uniaxialExtension/\n"
   ]
  },
  {
   "cell_type": "markdown",
   "id": "76e6d525",
   "metadata": {
    "slideshow": {
     "slide_type": "subslide"
    }
   },
   "source": [
    "### A real-life example\n",
    "\n",
    "Numerical dynamic analysis of a building. Done by [B. Bazzano](https://exportcvuy.anii.org.uy/cv/?57cffd85de793d36caa33f7988f359919e3d536faa25586941c7a430d71a6258bf43db88b2b4ca88a069ec1bd4111eef3cd1263d95f865d5eff769bdf9b768df), [M. Forets](https://github.com/mforets/) and [J. Pérez Zerpa](https://www.fing.edu.uy/~jorgepz/) as a collaboration with the head of the Wind Tunnel facility at Universidad de la República [J. Cataldo](https://www.researchgate.net/profile/Jose-Cataldo)."
   ]
  },
  {
   "cell_type": "markdown",
   "id": "1825842f",
   "metadata": {
    "slideshow": {
     "slide_type": "slide"
    }
   },
   "source": [
    "## Contributing to ONSAS\n",
    "\n",
    "\n",
    "### version control\n",
    "[Git](https://en.wikipedia.org/wiki/Git) _is a software for tracking changes in any set of files, usually used for coordinating work among programmers collaboratively developing source code during software development_. You can find extensive documentation and material in https://git-scm.com/\n",
    "\n",
    "\n",
    "### contributing options\n",
    " - Level 1 (starter): using the web interface.\n",
    " - Level 2 (beginner): github desktop.\n",
    " - Level 3 (intermediate): use a gui git-integrated editor such as https://atom.io/ or https://code.visualstudio.com/ / https://vscodium.com/\n",
    " - Level 4 (advanced): use git via command line https://git-scm.com/   \n",
    " \n"
   ]
  },
  {
   "cell_type": "markdown",
   "id": "5f21dead",
   "metadata": {
    "slideshow": {
     "slide_type": "subslide"
    }
   },
   "source": [
    "### Doing a small contribution"
   ]
  }
 ],
 "metadata": {
  "celltoolbar": "Slideshow",
  "kernelspec": {
   "display_name": "Python 3 (ipykernel)",
   "language": "python",
   "name": "python3"
  },
  "language_info": {
   "codemirror_mode": {
    "name": "ipython",
    "version": 3
   },
   "file_extension": ".py",
   "mimetype": "text/x-python",
   "name": "python",
   "nbconvert_exporter": "python",
   "pygments_lexer": "ipython3",
   "version": "3.10.4"
  }
 },
 "nbformat": 4,
 "nbformat_minor": 5
}
