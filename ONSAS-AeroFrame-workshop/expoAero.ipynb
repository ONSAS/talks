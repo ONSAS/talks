{
 "cells": [
  {
   "cell_type": "markdown",
   "id": "adb6a5cf",
   "metadata": {
    "slideshow": {
     "slide_type": "slide"
    }
   },
   "source": [
    "# <span style=\"color:orange\">  A quick guide on using (and contributing to) [ONSAS](https://github.com/ONSAS/ONSAS.m)\n",
    "### <span style=\"color:orange\"> An Open Nonlinear Structural Analysis Solver\n",
    "### <span style=\"color:blue\"> Mauricio Vanzulli -  IIMPI - Universidad de la República\n"
   ]
  },
  {
   "cell_type": "markdown",
   "id": "07732758",
   "metadata": {
    "slideshow": {
     "slide_type": "notes"
    }
   },
   "source": [
    "to generate ppt\n",
    "```\n",
    "jupyter nbconvert expoAero.ipynb --to slides --post serve\n",
    "```"
   ]
  },
  {
   "cell_type": "markdown",
   "id": "c23709f4",
   "metadata": {
    "slideshow": {
     "slide_type": "subslide"
    }
   },
   "source": [
    "### <span style=\"color:red\"> Points to talk about:\n",
    "\n",
    "1. Clone ONSAS.m repository via terminal using ssh.\n",
    "1. Skim and discuss the aerodynamic beam element formulation.\n",
    "1. Explain and execute `linearAerodynamics.m`.\n",
    "1. Explain `nonLinearAerodynamic.m`.\n",
    "\n"
   ]
  },
  {
   "cell_type": "markdown",
   "id": "b6491dc5",
   "metadata": {
    "slideshow": {
     "slide_type": "fragment"
    }
   },
   "source": [
    "### <span style=\"color:red\"> Motivation:\n",
    "\n",
    "1. How to use aerodynamic frame element for Alexandre(@theChickenFly) application of vortex induced vibrations. \n",
    "1. How to use aerodynamic frame elements to generate more complex examples such as: "
   ]
  },
  {
   "cell_type": "markdown",
   "id": "2bba1d41",
   "metadata": {
    "slideshow": {
     "slide_type": "subslide"
    }
   },
   "source": [
    "    \n",
    "### <span style=\"color:blue\"> Transmission line system submitted to thunderstorms loads:\n",
    "![transmissionLineTower](https://user-images.githubusercontent.com/50339940/145678643-9c7545e1-50f0-4f03-bd8d-0b0856905d3f.gif) \n"
   ]
  },
  {
   "cell_type": "markdown",
   "id": "7a6ad156",
   "metadata": {
    "slideshow": {
     "slide_type": "subslide"
    }
   },
   "source": [
    "    \n",
    "### <span style=\"color:blue\"> Chat on gitter and soft worm example:\n",
    "\n",
    "Don't hesitate to ask and chat on [https://gitter.im/onsas_/community](https://gitter.im/onsas_/community)"
   ]
  },
  {
   "cell_type": "markdown",
   "id": "d419dd06",
   "metadata": {
    "slideshow": {
     "slide_type": "slide"
    }
   },
   "source": [
    "## <span style=\"color:green\">1.Clone ONSAS.m via ssh    </span>\n",
    "This is a way to have remote access using private and public ssh keys.\n",
    "1. <span style=\"color:orange\">  Set up via linux terminal  </span>\n",
    "\n",
    "\n",
    "- Make a new user and [sign up on Github.com](https://github.com/signup?ref_cta=Sign+up&ref_loc=header+logged+out&ref_page=%2F&source=header-home)\n",
    "- Install git app on your Ubuntu system using:\n",
    "```bash\n",
    "apt-get install git\n",
    "```\n",
    "\n",
    "- Create private keys following this exact [instructions](https://docs.github.com/en/authentication/connecting-to-github-with-ssh/generating-a-new-ssh-key-and-adding-it-to-the-ssh-agent).\n",
    "- Set your identity:\n",
    "```bash\n",
    "git config --global user.name \"Your Name\"\n",
    "git config --global user.email \"your@email.com\"\n",
    "```\n",
    "\n",
    "- Then clone the repo using:  \n",
    "```bash\n",
    "git clone git@github.com:ONSAS/ONSAS.m.git\n",
    "```\n",
    "- Now you have ONSAS on your computer. Let's test it.. you can move into the folder and execute:\n",
    "```bash\n",
    "git status \n",
    "```"
   ]
  },
  {
   "cell_type": "markdown",
   "id": "628109e9",
   "metadata": {
    "slideshow": {
     "slide_type": "slide"
    }
   },
   "source": [
    "## <span style=\"color:green\">2.The co-rotational aerodynamic element essentials </span>\n",
    "\n",
    "We are going to check *\"A consistent co-rotational formulation for aerodynamic nonlinear analysis of flexible frame structures\"* at [arxiv](https://arxiv.org/abs/2204.10545) \n",
    "\n",
    "Main attractive features:\n",
    "- large rotations and displacements\n",
    "- inertial formulation consistent\n",
    "- low computational cost \n",
    "- includes cross-section of the frame in the deformed configuration to capture geometric non-lineralities \n"
   ]
  },
  {
   "cell_type": "markdown",
   "id": "9ad88deb",
   "metadata": {
    "slideshow": {
     "slide_type": "slide"
    }
   },
   "source": [
    "## <span style=\"color:green\">3.Linear aerodynamic cantilever beam example </span>\n",
    "We are going to read and modify the linear example into ONSAS docs at [this link](https://onsas.github.io/ONSAS.m/dev/examples/linearAerodynamics/)  \n"
   ]
  },
  {
   "cell_type": "markdown",
   "id": "09dc55f5",
   "metadata": {
    "slideshow": {
     "slide_type": "subslide"
    }
   },
   "source": [
    "## <span style=\"color:green\">4.Non-linear aerodynamic cantilever beam example </span>\n",
    "We are going to read and modify the non-linear example into ONSAS docs at [this link](https://onsas.github.io/ONSAS.m/dev/examples/nonLinearAerodynamics/)\n"
   ]
  }
 ],
 "metadata": {
  "celltoolbar": "Slideshow",
  "kernelspec": {
   "display_name": "Python 3 (ipykernel)",
   "language": "python",
   "name": "python3"
  },
  "language_info": {
   "codemirror_mode": {
    "name": "ipython",
    "version": 3
   },
   "file_extension": ".py",
   "mimetype": "text/x-python",
   "name": "python",
   "nbconvert_exporter": "python",
   "pygments_lexer": "ipython3",
   "version": "3.10.4"
  }
 },
 "nbformat": 4,
 "nbformat_minor": 5
}
